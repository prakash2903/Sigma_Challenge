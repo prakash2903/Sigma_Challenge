{
 "cells": [
  {
   "cell_type": "markdown",
   "id": "43502384",
   "metadata": {},
   "source": [
    "Done by Padhma Prakash A (21PT17)\n",
    "\n",
    "\n",
    "# **_Fetching Close Price details for the Apple (AAPL) stock for the year 2023 from QuantRocket_**\n",
    "\n",
    "# "
   ]
  },
  {
   "cell_type": "code",
   "execution_count": 5,
   "id": "0e37cf9e-76d1-408e-8516-c57af7c3bd71",
   "metadata": {
    "tags": []
   },
   "outputs": [
    {
     "data": {
      "text/plain": [
       "{'licensekey': 'f785........c51e', 'software_license': {}}"
      ]
     },
     "execution_count": 5,
     "metadata": {},
     "output_type": "execute_result"
    }
   ],
   "source": [
    "# ------ SETTING LICENSE --------\n",
    "\n",
    "from quantrocket.license import set_license\n",
    "set_license(\"f785a9ee-dfa4-11ee-948d-5d738746c51e\")"
   ]
  },
  {
   "cell_type": "code",
   "execution_count": 6,
   "id": "2b13d1d9-b219-41ab-bf21-af5f2fdc8992",
   "metadata": {
    "tags": []
   },
   "outputs": [
    {
     "data": {
      "text/plain": [
       "{'licensekey': 'f785........c51e', 'software_license': {}}"
      ]
     },
     "execution_count": 6,
     "metadata": {},
     "output_type": "execute_result"
    }
   ],
   "source": [
    "#  RETRIEVES INFO ABOUT CURRENTLY SET LICENSE PROFILE \n",
    "from quantrocket.license import get_license_profile\n",
    "get_license_profile()"
   ]
  },
  {
   "cell_type": "code",
   "execution_count": null,
   "id": "4e3d399d-8041-4edb-8fb5-e1a4a9e05c79",
   "metadata": {
    "tags": []
   },
   "outputs": [],
   "source": [
    "# CREATING US STOCK DATABASE\n",
    "from quantrocket.history import create_usstock_db\n",
    "create_usstock_db(\"usstock-free-1d\", bar_size=\"1 day\", free=True)"
   ]
  },
  {
   "cell_type": "code",
   "execution_count": 8,
   "id": "40acf66f-532f-40ee-a664-7d8dfa8fae65",
   "metadata": {
    "tags": []
   },
   "outputs": [
    {
     "data": {
      "text/plain": [
       "{'status': 'the historical data will be collected asynchronously'}"
      ]
     },
     "execution_count": 8,
     "metadata": {},
     "output_type": "execute_result"
    }
   ],
   "source": [
    "# STORING HISTORICAL DATA OF STOCK PRICE\n",
    "from quantrocket.history import collect_history\n",
    "collect_history(\"usstock-free-1d\")"
   ]
  },
  {
   "cell_type": "code",
   "execution_count": 11,
   "id": "778d91fb-02f6-4c66-b5fe-eb0c359a43c8",
   "metadata": {
    "tags": []
   },
   "outputs": [
    {
     "data": {
      "text/html": [
       "<div>\n",
       "<style scoped>\n",
       "    .dataframe tbody tr th:only-of-type {\n",
       "        vertical-align: middle;\n",
       "    }\n",
       "\n",
       "    .dataframe tbody tr th {\n",
       "        vertical-align: top;\n",
       "    }\n",
       "\n",
       "    .dataframe thead th {\n",
       "        text-align: right;\n",
       "    }\n",
       "</style>\n",
       "<table border=\"1\" class=\"dataframe\">\n",
       "  <thead>\n",
       "    <tr style=\"text-align: right;\">\n",
       "      <th></th>\n",
       "      <th>Symbol</th>\n",
       "      <th>Exchange</th>\n",
       "      <th>Country</th>\n",
       "      <th>Currency</th>\n",
       "      <th>SecType</th>\n",
       "      <th>Etf</th>\n",
       "      <th>Timezone</th>\n",
       "      <th>Name</th>\n",
       "      <th>PriceMagnifier</th>\n",
       "      <th>Multiplier</th>\n",
       "      <th>Delisted</th>\n",
       "      <th>DateDelisted</th>\n",
       "      <th>LastTradeDate</th>\n",
       "      <th>RolloverDate</th>\n",
       "    </tr>\n",
       "    <tr>\n",
       "      <th>Sid</th>\n",
       "      <th></th>\n",
       "      <th></th>\n",
       "      <th></th>\n",
       "      <th></th>\n",
       "      <th></th>\n",
       "      <th></th>\n",
       "      <th></th>\n",
       "      <th></th>\n",
       "      <th></th>\n",
       "      <th></th>\n",
       "      <th></th>\n",
       "      <th></th>\n",
       "      <th></th>\n",
       "      <th></th>\n",
       "    </tr>\n",
       "  </thead>\n",
       "  <tbody>\n",
       "    <tr>\n",
       "      <th>FIBBG000B9XRY4</th>\n",
       "      <td>AAPL</td>\n",
       "      <td>XNAS</td>\n",
       "      <td>US</td>\n",
       "      <td>USD</td>\n",
       "      <td>STK</td>\n",
       "      <td>False</td>\n",
       "      <td>America/New_York</td>\n",
       "      <td>APPLE INC</td>\n",
       "      <td>1</td>\n",
       "      <td>1</td>\n",
       "      <td>False</td>\n",
       "      <td>NaT</td>\n",
       "      <td>NaT</td>\n",
       "      <td>NaT</td>\n",
       "    </tr>\n",
       "    <tr>\n",
       "      <th>FIBBG000BFWKC0</th>\n",
       "      <td>MON</td>\n",
       "      <td>XNYS</td>\n",
       "      <td>US</td>\n",
       "      <td>USD</td>\n",
       "      <td>STK</td>\n",
       "      <td>False</td>\n",
       "      <td>America/New_York</td>\n",
       "      <td>MONSANTO CO</td>\n",
       "      <td>1</td>\n",
       "      <td>1</td>\n",
       "      <td>True</td>\n",
       "      <td>2018-06-06</td>\n",
       "      <td>NaT</td>\n",
       "      <td>NaT</td>\n",
       "    </tr>\n",
       "    <tr>\n",
       "      <th>FIBBG000BKZB36</th>\n",
       "      <td>HD</td>\n",
       "      <td>XNYS</td>\n",
       "      <td>US</td>\n",
       "      <td>USD</td>\n",
       "      <td>STK</td>\n",
       "      <td>False</td>\n",
       "      <td>America/New_York</td>\n",
       "      <td>HOME DEPOT INC</td>\n",
       "      <td>1</td>\n",
       "      <td>1</td>\n",
       "      <td>False</td>\n",
       "      <td>NaT</td>\n",
       "      <td>NaT</td>\n",
       "      <td>NaT</td>\n",
       "    </tr>\n",
       "    <tr>\n",
       "      <th>FIBBG000BMHYD1</th>\n",
       "      <td>JNJ</td>\n",
       "      <td>XNYS</td>\n",
       "      <td>US</td>\n",
       "      <td>USD</td>\n",
       "      <td>STK</td>\n",
       "      <td>False</td>\n",
       "      <td>America/New_York</td>\n",
       "      <td>JOHNSON &amp; JOHNSON</td>\n",
       "      <td>1</td>\n",
       "      <td>1</td>\n",
       "      <td>False</td>\n",
       "      <td>NaT</td>\n",
       "      <td>NaT</td>\n",
       "      <td>NaT</td>\n",
       "    </tr>\n",
       "    <tr>\n",
       "      <th>FIBBG000BPH459</th>\n",
       "      <td>MSFT</td>\n",
       "      <td>XNAS</td>\n",
       "      <td>US</td>\n",
       "      <td>USD</td>\n",
       "      <td>STK</td>\n",
       "      <td>False</td>\n",
       "      <td>America/New_York</td>\n",
       "      <td>MICROSOFT CORP</td>\n",
       "      <td>1</td>\n",
       "      <td>1</td>\n",
       "      <td>False</td>\n",
       "      <td>NaT</td>\n",
       "      <td>NaT</td>\n",
       "      <td>NaT</td>\n",
       "    </tr>\n",
       "  </tbody>\n",
       "</table>\n",
       "</div>"
      ],
      "text/plain": [
       "               Symbol Exchange Country Currency SecType    Etf  \\\n",
       "Sid                                                              \n",
       "FIBBG000B9XRY4   AAPL     XNAS      US      USD     STK  False   \n",
       "FIBBG000BFWKC0    MON     XNYS      US      USD     STK  False   \n",
       "FIBBG000BKZB36     HD     XNYS      US      USD     STK  False   \n",
       "FIBBG000BMHYD1    JNJ     XNYS      US      USD     STK  False   \n",
       "FIBBG000BPH459   MSFT     XNAS      US      USD     STK  False   \n",
       "\n",
       "                        Timezone               Name  PriceMagnifier  \\\n",
       "Sid                                                                   \n",
       "FIBBG000B9XRY4  America/New_York          APPLE INC               1   \n",
       "FIBBG000BFWKC0  America/New_York        MONSANTO CO               1   \n",
       "FIBBG000BKZB36  America/New_York     HOME DEPOT INC               1   \n",
       "FIBBG000BMHYD1  America/New_York  JOHNSON & JOHNSON               1   \n",
       "FIBBG000BPH459  America/New_York     MICROSOFT CORP               1   \n",
       "\n",
       "                Multiplier  Delisted DateDelisted LastTradeDate RolloverDate  \n",
       "Sid                                                                           \n",
       "FIBBG000B9XRY4           1     False          NaT           NaT          NaT  \n",
       "FIBBG000BFWKC0           1      True   2018-06-06           NaT          NaT  \n",
       "FIBBG000BKZB36           1     False          NaT           NaT          NaT  \n",
       "FIBBG000BMHYD1           1     False          NaT           NaT          NaT  \n",
       "FIBBG000BPH459           1     False          NaT           NaT          NaT  "
      ]
     },
     "execution_count": 11,
     "metadata": {},
     "output_type": "execute_result"
    }
   ],
   "source": [
    "# FETCHING SECURITIES DATA FOR US STOCKS WITH TYPE = STK\n",
    "\n",
    "from quantrocket.master import get_securities\n",
    "\n",
    "securities = get_securities(vendors=\"usstock\", sec_types=\"STK\")\n",
    "securities.head()"
   ]
  },
  {
   "cell_type": "code",
   "execution_count": null,
   "id": "c47c709a-17bc-4690-8f7d-c993e578f872",
   "metadata": {
    "tags": []
   },
   "outputs": [],
   "source": [
    "# CREATING UNIVERSE OF SECURITIES\n",
    "\n",
    "from quantrocket.master import create_universe\n",
    "create_universe(\"usstock-free\", sids=securities.index.tolist())"
   ]
  },
  {
   "cell_type": "code",
   "execution_count": 13,
   "id": "0d5939dd-01b8-4f49-b02c-e24a4a9829cf",
   "metadata": {
    "tags": []
   },
   "outputs": [
    {
     "data": {
      "text/html": [
       "<div>\n",
       "<style scoped>\n",
       "    .dataframe tbody tr th:only-of-type {\n",
       "        vertical-align: middle;\n",
       "    }\n",
       "\n",
       "    .dataframe tbody tr th {\n",
       "        vertical-align: top;\n",
       "    }\n",
       "\n",
       "    .dataframe thead th {\n",
       "        text-align: right;\n",
       "    }\n",
       "</style>\n",
       "<table border=\"1\" class=\"dataframe\">\n",
       "  <thead>\n",
       "    <tr style=\"text-align: right;\">\n",
       "      <th></th>\n",
       "      <th>Symbol</th>\n",
       "      <th>Exchange</th>\n",
       "      <th>Name</th>\n",
       "      <th>Delisted</th>\n",
       "    </tr>\n",
       "    <tr>\n",
       "      <th>Sid</th>\n",
       "      <th></th>\n",
       "      <th></th>\n",
       "      <th></th>\n",
       "      <th></th>\n",
       "    </tr>\n",
       "  </thead>\n",
       "  <tbody>\n",
       "    <tr>\n",
       "      <th>FIBBG000B9XRY4</th>\n",
       "      <td>AAPL</td>\n",
       "      <td>XNAS</td>\n",
       "      <td>APPLE INC</td>\n",
       "      <td>False</td>\n",
       "    </tr>\n",
       "  </tbody>\n",
       "</table>\n",
       "</div>"
      ],
      "text/plain": [
       "               Symbol Exchange       Name  Delisted\n",
       "Sid                                                \n",
       "FIBBG000B9XRY4   AAPL     XNAS  APPLE INC     False"
      ]
     },
     "execution_count": 13,
     "metadata": {},
     "output_type": "execute_result"
    }
   ],
   "source": [
    "# FILTERING SECURITIES DATAFRAME FOR THE STOCK \"AAPL\"\n",
    "filtered_securities = securities[securities.Symbol==\"AAPL\"]\n",
    "filtered_securities = filtered_securities[[\"Symbol\", \"Exchange\", \"Name\", \"Delisted\"]]\n",
    "filtered_securities.head()"
   ]
  },
  {
   "cell_type": "code",
   "execution_count": null,
   "id": "80e623ec-4ae5-4383-aac6-f9cd2b3f648f",
   "metadata": {
    "tags": []
   },
   "outputs": [],
   "source": [
    "create_universe(\"usstock-free-active\", sids=filtered_securities.index.tolist())"
   ]
  },
  {
   "cell_type": "code",
   "execution_count": 15,
   "id": "e6fa52ef-7e24-463c-bd28-b0a3889cb11d",
   "metadata": {
    "tags": []
   },
   "outputs": [
    {
     "data": {
      "text/html": [
       "<div>\n",
       "<style scoped>\n",
       "    .dataframe tbody tr th:only-of-type {\n",
       "        vertical-align: middle;\n",
       "    }\n",
       "\n",
       "    .dataframe tbody tr th {\n",
       "        vertical-align: top;\n",
       "    }\n",
       "\n",
       "    .dataframe thead th {\n",
       "        text-align: right;\n",
       "    }\n",
       "</style>\n",
       "<table border=\"1\" class=\"dataframe\">\n",
       "  <thead>\n",
       "    <tr style=\"text-align: right;\">\n",
       "      <th></th>\n",
       "      <th>Sid</th>\n",
       "      <th>FIBBG000B9XRY4</th>\n",
       "    </tr>\n",
       "    <tr>\n",
       "      <th>Field</th>\n",
       "      <th>Date</th>\n",
       "      <th></th>\n",
       "    </tr>\n",
       "  </thead>\n",
       "  <tbody>\n",
       "    <tr>\n",
       "      <th rowspan=\"10\" valign=\"top\">Close</th>\n",
       "      <th>2023-01-03</th>\n",
       "      <td>124.2163</td>\n",
       "    </tr>\n",
       "    <tr>\n",
       "      <th>2023-01-04</th>\n",
       "      <td>125.4975</td>\n",
       "    </tr>\n",
       "    <tr>\n",
       "      <th>2023-01-05</th>\n",
       "      <td>124.1666</td>\n",
       "    </tr>\n",
       "    <tr>\n",
       "      <th>2023-01-06</th>\n",
       "      <td>128.7352</td>\n",
       "    </tr>\n",
       "    <tr>\n",
       "      <th>2023-01-09</th>\n",
       "      <td>129.2616</td>\n",
       "    </tr>\n",
       "    <tr>\n",
       "      <th>2023-01-10</th>\n",
       "      <td>129.8377</td>\n",
       "    </tr>\n",
       "    <tr>\n",
       "      <th>2023-01-11</th>\n",
       "      <td>132.5788</td>\n",
       "    </tr>\n",
       "    <tr>\n",
       "      <th>2023-01-12</th>\n",
       "      <td>132.4994</td>\n",
       "    </tr>\n",
       "    <tr>\n",
       "      <th>2023-01-13</th>\n",
       "      <td>133.8402</td>\n",
       "    </tr>\n",
       "    <tr>\n",
       "      <th>2023-01-17</th>\n",
       "      <td>135.0121</td>\n",
       "    </tr>\n",
       "  </tbody>\n",
       "</table>\n",
       "</div>"
      ],
      "text/plain": [
       "Sid               FIBBG000B9XRY4\n",
       "Field Date                      \n",
       "Close 2023-01-03        124.2163\n",
       "      2023-01-04        125.4975\n",
       "      2023-01-05        124.1666\n",
       "      2023-01-06        128.7352\n",
       "      2023-01-09        129.2616\n",
       "      2023-01-10        129.8377\n",
       "      2023-01-11        132.5788\n",
       "      2023-01-12        132.4994\n",
       "      2023-01-13        133.8402\n",
       "      2023-01-17        135.0121"
      ]
     },
     "execution_count": 15,
     "metadata": {},
     "output_type": "execute_result"
    }
   ],
   "source": [
    "# GETTING CLOSE PRICES FOR THE STOCK AAPL WITHIN SPECIFIED DATES\n",
    "\n",
    "from quantrocket import get_prices\n",
    "prices = get_prices(\"usstock-free-1d\", universes=\"usstock-free-active\", start_date=\"2023-01-01\",end_date=\"2023-12-31\" ,fields=[\"Close\"])\n",
    "prices.head(10)"
   ]
  },
  {
   "cell_type": "code",
   "execution_count": 16,
   "id": "a7434323-4083-4c18-83e7-cb71b291c5b4",
   "metadata": {
    "tags": []
   },
   "outputs": [],
   "source": [
    "# ------------ CREATING A CSV FILE TO STORE THE OBTAINED DATA --------\n",
    "\n",
    "prices.to_csv(\"AAPL_Stock.csv\")"
   ]
  }
 ],
 "metadata": {
  "kernelspec": {
   "display_name": "Python 3.9",
   "language": "python",
   "name": "python3"
  },
  "language_info": {
   "codemirror_mode": {
    "name": "ipython",
    "version": 3
   },
   "file_extension": ".py",
   "mimetype": "text/x-python",
   "name": "python",
   "nbconvert_exporter": "python",
   "pygments_lexer": "ipython3",
   "version": "3.9.12"
  }
 },
 "nbformat": 4,
 "nbformat_minor": 5
}
